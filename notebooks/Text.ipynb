{
 "cells": [
  {
   "cell_type": "code",
   "execution_count": 1,
   "metadata": {},
   "outputs": [],
   "source": [
    "import string\n",
    "import requests\n",
    "import re"
   ]
  },
  {
   "cell_type": "code",
   "execution_count": 2,
   "metadata": {},
   "outputs": [],
   "source": [
    "r = requests.get('https://www.gutenberg.org/files/1342/1342-0.txt')\n",
    "start = r'(Chapter 1)[^0-9]'\n",
    "end = '\\*\\*\\* END OF THE PROJECT GUTENBERG EBOOK'"
   ]
  },
  {
   "cell_type": "markdown",
   "metadata": {},
   "source": [
    "Rules for processing\n",
    "- [ ] Replace non-unicode (I think) with unicode e.g. apostrophes\n",
    "- [ ] Find foreign words and hardcode replacement - can do this by looking for special characters\n",
    "- [ ] Add '—' i.e. long dash for punctuation\n",
    "- [ ] Go through hypens between words - looks like they are all hyphenated words\n",
    "- [ ] Replace `-` with `<HYPEN>`, `'` with `<APOSTROPHE>`, then surround punctuation with spaces, then replace these with the punctuation \n",
    "- [ ] This should also be done for `Mr.`, `Mrs.`"
   ]
  },
  {
   "cell_type": "code",
   "execution_count": 17,
   "metadata": {},
   "outputs": [],
   "source": [
    "def preprocess(txt, chars, replace_words, new_punc):\n",
    "    \n",
    "    txt = '\\n'.join([i.strip() for i in txt.split('\\n')])\n",
    "    \n",
    "    for word, new_word in replace_words.items():\n",
    "        txt = txt.replace(word, new_word)\n",
    "    \n",
    "    \n",
    "    punc_dict = {\"'\": '<APOSTROPHE>', '-': '<HYPHEN>'}\n",
    "    \n",
    "    def replace_punc(x):\n",
    "        before, punc, after = x.groups()\n",
    "        return r'{}{}{}'.format(before, punc_dict[punc], after)\n",
    "    \n",
    "    punc_pattern = r\"({0})([{1}])({0})\".format(\n",
    "        '[a-zA-Z{}]+'.format(chars),\n",
    "        '|'.join(punc_dict)\n",
    "    )\n",
    "    \n",
    "    changed = True\n",
    "    \n",
    "    tmp = txt\n",
    "\n",
    "    \n",
    "    # may need several passes e.g. for word with > 2 parts like `half-an-hour` \n",
    "    while changed:\n",
    "        tmp = re.sub(punc_pattern, replace_punc, tmp)\n",
    "        changed = tmp != txt\n",
    "        txt = tmp\n",
    "        \n",
    "    inv_punc_dict = {'<APOSTROPHE>': \" '\", '<HYPHEN>': ' - ', '<DOT>':'. '}\n",
    "    \n",
    "    # Get rid of the angle brackets and add '^' to get '^TAG1|^TAG2|...' so that \n",
    "    # TAG is excluded\n",
    "    not_punc_tag = '|'.join(['^' + i for i in inv_punc_dict]).strip('<>')\n",
    "    \n",
    "    punc_replace = '\\\\' + \"|\\\\\".join(string.punctuation + new_punc)\n",
    "    punc_replace = punc_replace.replace(\n",
    "        '<', '<[{}]'.format(not_punc_tag)).replace(\n",
    "        '>', '[{}]>'.format(not_punc_tag))\n",
    "    \n",
    "    \n",
    "    \n",
    "    txt = re.sub('({})'.format(punc_replace), r' \\1 ', txt)\n",
    "    \n",
    "    \n",
    "        \n",
    "    punc_tag_replace = re.compile('({})'.format('|'.join(inv_punc_dict)))\n",
    "    \n",
    "    def replace_punc_tag(x):\n",
    "        return inv_punc_dict[x.groups()[0]]\n",
    "    \n",
    "    txt = punc_tag_replace.sub(replace_punc_tag, txt)\n",
    "    \n",
    "    lines = map(str.strip, txt.split('\\n'))\n",
    "    txt = '\\n'.join(' '.join(map(str.strip, line.split(' '))) for line in lines)\n",
    "    \n",
    "    return txt"
   ]
  },
  {
   "cell_type": "code",
   "execution_count": 18,
   "metadata": {},
   "outputs": [],
   "source": [
    "text = bytes(r.text, r.encoding).decode()"
   ]
  },
  {
   "cell_type": "code",
   "execution_count": 19,
   "metadata": {},
   "outputs": [],
   "source": [
    "s = re.finditer(r'(Chapter 1)[^0-9]', text)\n",
    "start_idx = list(s)[-1].span()[0]\n",
    "end_idx = re.search(end, text).span()[0]\n",
    "book = text[start_idx:end_idx].strip()"
   ]
  },
  {
   "cell_type": "code",
   "execution_count": 20,
   "metadata": {},
   "outputs": [],
   "source": [
    "replace_dict = {\n",
    "    '’': \"'\",\n",
    "    '‘': \"'\",\n",
    "    '”': '\"',\n",
    "    '“': '\"',\n",
    "    'Mr.': 'Mr<DOT>',\n",
    "    'Mrs.': 'Mrs<DOT>',\n",
    "    'Esq.': 'Esq<DOT>',\n",
    "    'etc.': 'etc<DOT>'\n",
    "}"
   ]
  },
  {
   "cell_type": "code",
   "execution_count": 21,
   "metadata": {
    "scrolled": false
   },
   "outputs": [],
   "source": [
    "book2 = (preprocess(book, chars='êéà', replace_words=replace_dict, new_punc='—'))"
   ]
  },
  {
   "cell_type": "code",
   "execution_count": 22,
   "metadata": {},
   "outputs": [
    {
     "data": {
      "text/plain": [
       "144959"
      ]
     },
     "execution_count": 22,
     "metadata": {},
     "output_type": "execute_result"
    }
   ],
   "source": [
    "len([i.strip() for i in book2.split()]) "
   ]
  },
  {
   "cell_type": "code",
   "execution_count": 23,
   "metadata": {},
   "outputs": [
    {
     "data": {
      "text/plain": [
       "6701"
      ]
     },
     "execution_count": 23,
     "metadata": {},
     "output_type": "execute_result"
    }
   ],
   "source": [
    "len(set([i.strip() for i in book2.split()]))"
   ]
  },
  {
   "cell_type": "code",
   "execution_count": 26,
   "metadata": {},
   "outputs": [],
   "source": [
    "with open('train_pride_and_prejudice.txt', 'w') as f:\n",
    "    f.write(book2)\n",
    "    \n",
    "# with open('train_pride_and_prejudice_no_empty_lines.txt', 'w') as f:\n",
    "#     lines = map(str.strip, book2.split('\\n'))\n",
    "#     new_lines = []\n",
    "#     n_empty = 0\n",
    "#     for line in lines:\n",
    "#         if n_empty > 1:\n",
    "#             continue\n",
    "#         if len(line) == 0:\n",
    "#             n_empty +=1\n",
    "#         else:\n",
    "#             n_empty = 0\n",
    "#         new_lines.append(line)\n",
    "        "
   ]
  },
  {
   "cell_type": "markdown",
   "metadata": {},
   "source": [
    "## Archive"
   ]
  },
  {
   "cell_type": "code",
   "execution_count": 562,
   "metadata": {},
   "outputs": [
    {
     "data": {
      "text/plain": [
       "'Mrs<DOT>Elton/ Mr<DOT>Weston didn<APOSTROPHE>t, it<APOSTROPHE>s, tête<HYPHEN>à<HYPHEN>tête!'"
      ]
     },
     "execution_count": 562,
     "metadata": {},
     "output_type": "execute_result"
    }
   ],
   "source": [
    "punc_dict = {\"'\": '<APOSTROPHE>', '-': '<HYPHEN>', '.':'<DOT>'}\n",
    "inv_punc_dict = {'<APOSTROPHE>': \" '\", '<HYPHEN>':\" \", '<DOT>': '. '}\n",
    "def replace_punc(x):\n",
    "    return r'{}{}{}'.format(x.groups()[0], punc_dict[x.groups()[1]], x.groups()[2])\n",
    "bb = a\n",
    "while True:\n",
    "    bb2 = re.sub(r\"({0})([{1}])({0})\".format('[a-zA-Zêéà]+', '|'.join(\"-'.\")), replace_punc, bb)\n",
    "    if bb2 == bb:\n",
    "        break\n",
    "    bb = bb2\n",
    "bb == z\n",
    "bb"
   ]
  },
  {
   "cell_type": "code",
   "execution_count": 563,
   "metadata": {},
   "outputs": [],
   "source": [
    "s = '\\\\' + \"|\\\\\".join(string.punctuation)\n",
    "s = s.replace('<', '<[^APOSTROPHE|^HYPHEN|^DOT]').replace('>', '[^APOSTROPHE|^HYPHEN|^DOT]>')"
   ]
  },
  {
   "cell_type": "code",
   "execution_count": 564,
   "metadata": {},
   "outputs": [
    {
     "data": {
      "text/plain": [
       "\"Mrs. Elton / Mr. Weston didn 't , it 's , tête à tête !\""
      ]
     },
     "execution_count": 564,
     "metadata": {},
     "output_type": "execute_result"
    }
   ],
   "source": [
    "x = re.sub(\n",
    "    '({})'.format('|'.join(map('\\<{}\\>'.format, ('APOSTROPHE', 'HYPHEN', 'DOT')))),\n",
    "    lambda x: inv_punc_dict[x.groups()[0]],\n",
    "    re.sub(f'({s})', r' \\1 ', bb)\n",
    ")\n",
    "\n",
    "' '.join([i.strip() for i in x.split()])\n",
    "\n",
    "#.replace(r'<APOSTROPHE>', ' \\'').replace(r'<HYPHEN>', ' ')"
   ]
  },
  {
   "cell_type": "code",
   "execution_count": 557,
   "metadata": {},
   "outputs": [
    {
     "data": {
      "text/plain": [
       "'!\"#$%&\\'()*+,-./:;<=>?@[\\\\]^_`{|}~'"
      ]
     },
     "execution_count": 557,
     "metadata": {},
     "output_type": "execute_result"
    }
   ],
   "source": [
    "string.punctuation"
   ]
  },
  {
   "cell_type": "code",
   "execution_count": null,
   "metadata": {},
   "outputs": [],
   "source": [
    "def process_text(txt):\n",
    "    translator = string.maketrans(string.punctuation, ' '*len(string.punctuation))\n",
    "    txt = txt.translate(translator)"
   ]
  }
 ],
 "metadata": {
  "kernelspec": {
   "display_name": "py3venv",
   "language": "python",
   "name": "py3venv"
  },
  "language_info": {
   "codemirror_mode": {
    "name": "ipython",
    "version": 3
   },
   "file_extension": ".py",
   "mimetype": "text/x-python",
   "name": "python",
   "nbconvert_exporter": "python",
   "pygments_lexer": "ipython3",
   "version": "3.8.0"
  }
 },
 "nbformat": 4,
 "nbformat_minor": 4
}
