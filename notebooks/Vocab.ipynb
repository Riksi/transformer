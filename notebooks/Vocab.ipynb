{
 "cells": [
  {
   "cell_type": "markdown",
   "metadata": {},
   "source": [
    "Roughly what the code does is as follows:\n",
    "- Duplicate `num_passes` times to get random chunks the full length of the corpus `N` which are concatenated\n",
    "- Get a tensor of size `batch_size x ((N * num_passes) // batch_size)`\n",
    "- Split each row into chunks of size `tgt_len`\n",
    "- Divide the tokens in each chunk into bins"
   ]
  },
  {
   "cell_type": "code",
   "execution_count": 375,
   "metadata": {},
   "outputs": [],
   "source": [
    "import pickle\n",
    "\n",
    "from collections import Counter, OrderedDict\n",
    "import json\n",
    "import numpy as np\n",
    "import tensorflow as tf\n",
    "import os\n",
    "\n",
    "class Vocab(object):\n",
    "    def __init__(self, special=[], min_freq=0, max_size=None,\n",
    "                 lower_case=True, delimiter=None, vocab_file=None):\n",
    "        self.counter = Counter()\n",
    "        self.special = special\n",
    "        self.min_freq = min_freq\n",
    "        self.max_size = max_size\n",
    "        self.lower_case = lower_case\n",
    "        self.delimiter = delimiter\n",
    "        self.vocab_file = vocab_file\n",
    "\n",
    "    def tokenize(self, line, add_eos=False, add_double_eos=False):\n",
    "        line = line.strip()\n",
    "        if self.lower_case:\n",
    "            line = line.lower()\n",
    "\n",
    "        if self.delimiter == \"\":\n",
    "            symbols = line\n",
    "        else:\n",
    "            # If None splits by space \n",
    "            symbols = line.split(self.delimiter)\n",
    "\n",
    "        if add_double_eos:  # lm1b\n",
    "            return ['<S>'] + symbols + ['<S>']\n",
    "        elif add_eos:\n",
    "            return symbols + ['<eos>']\n",
    "        else:\n",
    "            return symbols\n",
    "\n",
    "    def count_file(self, path, verbose=False, add_eos=False):\n",
    "        if verbose: print('counting file {} ...'.format(path))\n",
    "        assert tf.io.gfile.exists(path)\n",
    "\n",
    "        sents = []\n",
    "        with open(path, 'r') as f:\n",
    "            for idx, line in enumerate(f):\n",
    "                if verbose and idx > 0 and idx % 500000 == 0:\n",
    "                    print(' line {}'.format(idx))\n",
    "                # Split each sentence into token and increment\n",
    "                # counter for each token\n",
    "                symbols = self.tokenize(line, add_eos=add_eos)\n",
    "                self.counter.update(symbols)\n",
    "                sents.append(symbols)\n",
    "\n",
    "        return sents\n",
    "\n",
    "    def count_sents(self, sents, verbose=False):\n",
    "        if verbose: print('counting {} sents ...'.format(len(sents)))\n",
    "        for idx, symbols in enumerate(sents):\n",
    "            if verbose and idx > 0 and idx % 500000 == 0:\n",
    "                print(' line {}'.format(idx))\n",
    "            self.counter.update(symbols)\n",
    "\n",
    "    def _build_from_file(self, vocab_file):\n",
    "        self.idx2sym = []\n",
    "        self.sym2idx = OrderedDict()\n",
    "\n",
    "        with open(vocab_file, 'r') as f:\n",
    "            for line in f:\n",
    "                symb = line.strip().split()[0]\n",
    "                self.add_symbol(symb)\n",
    "        self.unk_idx = self.sym2idx['<UNK>']\n",
    "\n",
    "\n",
    "    def build_vocab(self):\n",
    "        if self.vocab_file:\n",
    "            print('building vocab from {}'.format(self.vocab_file))\n",
    "            self._build_from_file(self.vocab_file)\n",
    "            print('final vocab size {}'.format(len(self)))\n",
    "\n",
    "        else:\n",
    "            print('building vocab with min_freq={}, max_size={}'.format(\n",
    "                self.min_freq, self.max_size\n",
    "            ))\n",
    "            self.idx2sym = []\n",
    "            self.sym2idx = OrderedDict()\n",
    "\n",
    "            for sym in self.special:\n",
    "                self.add_special(sym)\n",
    "\n",
    "            for sym, cnt in self.counter.most_common(self.max_size):\n",
    "                # Works because words in most_common are\n",
    "                # in descending order of frequency so you\n",
    "                # can just stop if count is below the min value\n",
    "                if cnt < self.min_freq: break\n",
    "                self.add_symbol(sym)\n",
    "\n",
    "            print('final vocab size {} from {} unique tokens'.format(\n",
    "                len(self), len(self.counter))\n",
    "            )\n",
    "\n",
    "    def encode_file(self, path, ordered=False, verbose=False, add_eos=True, add_double_eos=False):\n",
    "        # Reads file, tokenises each line, converts tokens to symbols\n",
    "        if verbose: print('encoding file {} ...'.format(path))\n",
    "        assert tf.io.gfile.exists(path)\n",
    "        encoded = []\n",
    "        with open(path, 'r') as f:\n",
    "            for idx, line in enumerate(f):\n",
    "                if verbose and idx > 0 and idx % 500000 == 0:\n",
    "                    print('  line {}'.format(idx))\n",
    "                symbols = self.tokenize(line, add_eos=add_eos, add_double_eos=add_double_eos)\n",
    "                encoded.append(self.convert_to_nparray(symbols))\n",
    "\n",
    "        if ordered:\n",
    "            encoded = np.concatenate(encoded)\n",
    "\n",
    "        return encoded\n",
    "\n",
    "    def encode_sents(self, sents, ordered=False, verbose=False):\n",
    "        if verbose: print('encoding {} sents ...'.format(len(sents)))\n",
    "        encoded = []\n",
    "        for idx, symbols in enumerate(sents):\n",
    "            if verbose and idx > 0 and idx % 500000 == 0:\n",
    "                print(' line {}'.format(idx))\n",
    "            encoded.append(self.convert_to_nparray(symbols))\n",
    "\n",
    "        if ordered:\n",
    "            encoded = np.concatenate(encoded)\n",
    "\n",
    "        return encoded\n",
    "\n",
    "    def add_special(self, sym):\n",
    "        # Essentially same as add_symbol\n",
    "        # but also makes the symbol\n",
    "        # an attribute\n",
    "        if sym not in self.sym2idx:\n",
    "            self.idx2sym.append(sym)\n",
    "            self.sym2idx[sym] = len(self.idx2sym) - 1\n",
    "            setattr(self, '{}_idx'.format(sym.strip('<>')), self.sym2idx[sym])\n",
    "\n",
    "    def add_symbol(self, sym):\n",
    "        if sym not in self.sym2idx:\n",
    "            self.idx2sym.append(sym)\n",
    "            self.sym2idx[sym] = len(self.idx2sym) - 1\n",
    "\n",
    "    def get_sym(self, idx) -> str:\n",
    "        assert 0 <= idx < len(self), 'Index {} out of range'\n",
    "        return self.idx2sym[idx]\n",
    "\n",
    "    def get_idx(self, sym):\n",
    "        if sym in self.sym2idx:\n",
    "            return self.sym2idx[sym]\n",
    "        else:\n",
    "            hasattr(self, 'unk_idx')\n",
    "            return self.sym2idx.get(sym, self.unk_idx)\n",
    "\n",
    "    def get_symbols(self, indices):\n",
    "        return [self.get_sym(idx) for idx in indices]\n",
    "\n",
    "    def get_indices(self, symbols):\n",
    "        return [self.get_idx(sym) for sym in symbols]\n",
    "\n",
    "    def convert_to_nparray(self, symbols):\n",
    "        nparray = np.array(\n",
    "            self.get_indices(symbols), dtype=np.int64\n",
    "        )\n",
    "        return nparray\n",
    "\n",
    "    def convert_to_sent(self, indices, exclude=None):\n",
    "        if exclude is None:\n",
    "            return ' '.join([self.get_sym(idx) for idx in indices])\n",
    "        else:\n",
    "            return ' '.join([self.get_sym(idx) for idx in indices if idx not in exclude])\n",
    "\n",
    "    def __len__(self):\n",
    "        return len(self.idx2sym)"
   ]
  },
  {
   "cell_type": "code",
   "execution_count": 376,
   "metadata": {},
   "outputs": [],
   "source": [
    "kwargs = dict()\n",
    "# I am using settings given for WikiText-103\n",
    "kwargs[\"special\"] = [\"<eos>\"]\n",
    "kwargs[\"lower_case\"] = False"
   ]
  },
  {
   "cell_type": "code",
   "execution_count": 377,
   "metadata": {},
   "outputs": [],
   "source": [
    "vocab = Vocab(**kwargs)"
   ]
  },
  {
   "cell_type": "code",
   "execution_count": 378,
   "metadata": {},
   "outputs": [],
   "source": [
    "!trash data_tmp/cache.pkl"
   ]
  },
  {
   "cell_type": "code",
   "execution_count": 379,
   "metadata": {},
   "outputs": [],
   "source": [
    "x = vocab.count_file('train_pride_and_prejudice.txt')"
   ]
  },
  {
   "cell_type": "code",
   "execution_count": 380,
   "metadata": {},
   "outputs": [
    {
     "name": "stdout",
     "output_type": "stream",
     "text": [
      "building vocab with min_freq=0, max_size=None\n",
      "final vocab size 6702 from 6701 unique tokens\n"
     ]
    }
   ],
   "source": [
    "vocab.build_vocab()"
   ]
  },
  {
   "cell_type": "code",
   "execution_count": 381,
   "metadata": {},
   "outputs": [],
   "source": [
    "x = vocab.encode_file('train_pride_and_prejudice.txt', ordered=True)"
   ]
  },
  {
   "cell_type": "code",
   "execution_count": 382,
   "metadata": {},
   "outputs": [],
   "source": [
    "class Corpus(object):\n",
    "    def __init__(self, path, dataset, *args, **kwargs):\n",
    "        # In all of this I am using settings given for WikiText-103\n",
    "\n",
    "        self.dataset = dataset\n",
    "        self.vocab = Vocab(*args, **kwargs)\n",
    "        self.vocab.count_file(\n",
    "            os.path.join(path, \"train.txt\")\n",
    "        )\n",
    "\n",
    "        self.vocab.build_vocab()\n",
    "\n",
    "        for fold in ['train', 'valid', 'test']:\n",
    "            setattr(self, fold,\n",
    "                    self.vocab.encode_file(os.path.join(path, f\"{fold}.txt\"), ordered=True))\n",
    "\n",
    "        # TODO: maybe these should be different?\n",
    "        self.cutoffs = [0, 20000, 40000, 200000] + [len(self.vocab)]\n",
    "\n",
    "    def convert_to_tfrecords(self, split, save_dir, bsz, tgt_len,\n",
    "                             num_core_per_host, **kwargs):\n",
    "        FLAGS = kwargs.get('FLAGS')\n",
    "\n",
    "        file_names = []\n",
    "        use_tpu = FLAGS.use_tpu and not (split == \"test\" and num_core_per_host == 1)\n",
    "\n",
    "        if use_tpu:\n",
    "            record_name = \"record_info-{}.bsz-{}.tlen-{}.core-{}.json\".format(\n",
    "                split, bsz, tgt_len, num_core_per_host)\n",
    "        else:\n",
    "            record_name = \"record_info-{}.bsz-{}.tlen-{}.json\".format(\n",
    "                split, bsz, tgt_len)\n",
    "\n",
    "        record_info_path = os.path.join(save_dir, record_name)\n",
    "\n",
    "        data = getattr(self, split)\n",
    "\n",
    "        bin_sizes = get_bin_sizes(data, bsz // num_core_per_host, tgt_len, self.cutoffs)\n",
    "        file_name, num_batch = create_ordered_tfrecords(\n",
    "            save_dir, split, data, bsz, tgt_len, num_core_per_host,\n",
    "            self.cutoffs, bin_sizes,\n",
    "            num_passes=FLAGS.num_passes if split == 'train' and use_tpu else 1,\n",
    "            use_tpu=use_tpu)\n",
    "        file_names.append(file_name)\n",
    "\n",
    "        with open(record_info_path, \"w\") as fp:\n",
    "            record_info = {\n",
    "                \"filenames\": file_names,\n",
    "                \"bin_sizes\": bin_sizes,\n",
    "                \"num_batch\": num_batch\n",
    "            }\n",
    "            json.dump(record_info, fp)"
   ]
  },
  {
   "cell_type": "code",
   "execution_count": 383,
   "metadata": {},
   "outputs": [],
   "source": [
    "def get_lm_corpus(data_dir, dataset):\n",
    "    fn = os.path.join(data_dir, \"cache.pkl\")\n",
    "\n",
    "    if tf.io.gfile.exists(fn):\n",
    "        print(\"Loading cached dataset\")\n",
    "        with open(fn, \"rb\") as fp:\n",
    "            corpus = pickle.load(fp)\n",
    "\n",
    "    else:\n",
    "        print(\"Producing dataset...\")\n",
    "        kwargs = dict()\n",
    "        # I am using settings given for WikiText-103\n",
    "        kwargs[\"special\"] = [\"<eos>\", '<pad>', '<unk>']\n",
    "        kwargs[\"lower_case\"] = False\n",
    "        corpus = Corpus(data_dir, dataset, **kwargs)\n",
    "\n",
    "        print(\"Saving dataset...\")\n",
    "\n",
    "        with open(fn, \"wb\") as fp:\n",
    "            # TODO: why protocol = 2 ?\n",
    "            pickle.dump(corpus, fp, protocol=2)\n",
    "\n",
    "        corpus_info = dict(\n",
    "            vocab_size=len(corpus.vocab),\n",
    "            cutoffs=corpus.cutoffs,\n",
    "            dataset=corpus.dataset\n",
    "        )\n",
    "\n",
    "        with open(os.path.join(data_dir, \"corpus-info.json\"), \"w\") as fp:\n",
    "            json.dump(corpus_info, fp)\n",
    "\n",
    "    return corpus"
   ]
  },
  {
   "cell_type": "code",
   "execution_count": 384,
   "metadata": {},
   "outputs": [],
   "source": [
    "from easydict import EasyDict"
   ]
  },
  {
   "cell_type": "code",
   "execution_count": 385,
   "metadata": {},
   "outputs": [],
   "source": [
    "# for fold in ['valid', 'test']:\n",
    "#     with open(f'data_tmp/{fold}.txt') as f:\n",
    "#         x = f.read()[:1000]\n",
    "\n",
    "#     with open(f'data_tmp/{fold}.txt', 'w') as f:\n",
    "#         f.write(x)\n"
   ]
  },
  {
   "cell_type": "code",
   "execution_count": 386,
   "metadata": {},
   "outputs": [],
   "source": [
    "FLAGS = EasyDict(\n",
    "    data_dir='data_tmp',\n",
    "    dataset='jane_austen',\n",
    "    per_host_test_bsz=0,\n",
    "    num_hosts=1,\n",
    "    num_core_per_host=8,\n",
    "    per_host_train_bsz=2,\n",
    "    per_host_valid_bsz=2,\n",
    "    tgt_len=10,\n",
    ")"
   ]
  },
  {
   "cell_type": "code",
   "execution_count": 387,
   "metadata": {},
   "outputs": [
    {
     "name": "stdout",
     "output_type": "stream",
     "text": [
      "Producing dataset...\n",
      "building vocab with min_freq=0, max_size=None\n",
      "final vocab size 121 from 118 unique tokens\n",
      "Saving dataset...\n"
     ]
    }
   ],
   "source": [
    "corpus = get_lm_corpus(FLAGS.data_dir, FLAGS.dataset)"
   ]
  },
  {
   "cell_type": "code",
   "execution_count": 388,
   "metadata": {},
   "outputs": [
    {
     "data": {
      "text/plain": [
       "'record_info-train.bsz-2.tlen-10.core-8.json'"
      ]
     },
     "execution_count": 388,
     "metadata": {},
     "output_type": "execute_result"
    }
   ],
   "source": [
    "file_names = []\n",
    "record_name = \"record_info-{}.bsz-{}.tlen-{}.core-{}.json\".format(\n",
    "                'train', FLAGS.per_host_train_bsz, FLAGS.tgt_len, \n",
    "    FLAGS.num_core_per_host)\n",
    "record_name"
   ]
  },
  {
   "cell_type": "code",
   "execution_count": 389,
   "metadata": {},
   "outputs": [],
   "source": [
    "def _nearest_multiple_of_eight(x):\n",
    "    # i.e. nearest that is greater than 0\n",
    "    y = x - x % 8\n",
    "    return y + 8 if x % 8 >= 4 else max(8, y)"
   ]
  },
  {
   "cell_type": "code",
   "execution_count": 390,
   "metadata": {},
   "outputs": [],
   "source": [
    "bin_sizes = []\n",
    "num_batch = int(np.ceil(len(corpus.train) // FLAGS.per_host_train_bsz // FLAGS.tgt_len))\n",
    "total = FLAGS.per_host_train_bsz * num_batch * FLAGS.tgt_len"
   ]
  },
  {
   "cell_type": "code",
   "execution_count": 391,
   "metadata": {},
   "outputs": [
    {
     "data": {
      "text/plain": [
       "(245, 12, 240)"
      ]
     },
     "execution_count": 391,
     "metadata": {},
     "output_type": "execute_result"
    }
   ],
   "source": [
    "len(corpus.train), num_batch, total"
   ]
  },
  {
   "cell_type": "code",
   "execution_count": 392,
   "metadata": {},
   "outputs": [
    {
     "data": {
      "text/plain": [
       "(2, 12, 10)"
      ]
     },
     "execution_count": 392,
     "metadata": {},
     "output_type": "execute_result"
    }
   ],
   "source": [
    "if total - len(corpus.train) > 0:\n",
    "    data = np.concatenate([corpus.train, corpus.vocab.pad_idx * np.ones(total - len(corpus.train))])\n",
    "else:\n",
    "    data = corpus.train[:total]\n",
    "data_tmp = data.reshape(FLAGS.per_host_train_bsz, num_batch, FLAGS.tgt_len)\n",
    "data_tmp.shape"
   ]
  },
  {
   "cell_type": "code",
   "execution_count": 393,
   "metadata": {},
   "outputs": [
    {
     "data": {
      "text/plain": [
       "(245, 240)"
      ]
     },
     "execution_count": 393,
     "metadata": {},
     "output_type": "execute_result"
    }
   ],
   "source": [
    "len(corpus.train), np.product(data_tmp.shape)"
   ]
  },
  {
   "cell_type": "markdown",
   "metadata": {},
   "source": [
    "data"
   ]
  },
  {
   "cell_type": "code",
   "execution_count": 394,
   "metadata": {},
   "outputs": [],
   "source": [
    "tot = FLAGS.per_host_train_bsz * FLAGS.tgt_len"
   ]
  },
  {
   "cell_type": "code",
   "execution_count": 395,
   "metadata": {},
   "outputs": [],
   "source": [
    "import math"
   ]
  },
  {
   "cell_type": "markdown",
   "metadata": {},
   "source": [
    "Is this for model parallel? The data is getting split based on value of token. Then you estimate how what fraction tokens there are in each token range. Each batch would have `FLAGS.tgt_len * FLAGS.per_host_train_bsz` tokens. You multiply this by a factor `mean + std_mult[b] * std` to get an estimate for the bin size."
   ]
  },
  {
   "cell_type": "code",
   "execution_count": 396,
   "metadata": {},
   "outputs": [],
   "source": [
    "std_mult=[2.5, 2.5, 2.5]\n",
    "for b, (left, right) in enumerate(zip(corpus.cutoffs[1:-1], corpus.cutoffs[2:])):\n",
    "    mask = (data_tmp >= left) * (data_tmp < right)\n",
    "    percents = mask.astype(np.float64).sum(2).sum(0) / tot\n",
    "    mean = np.mean(percents)\n",
    "    std = np.std(percents)\n",
    "\n",
    "    bin_size = int(math.ceil(FLAGS.tgt_len * FLAGS.per_host_train_bsz * (mean + std_mult[b] * std)))\n",
    "    bin_size = _nearest_multiple_of_eight(bin_size)\n",
    "    bin_sizes.append(bin_size)"
   ]
  },
  {
   "cell_type": "code",
   "execution_count": 397,
   "metadata": {},
   "outputs": [],
   "source": [
    "batch_size = FLAGS.per_host_train_bsz\n",
    "tgt_len = FLAGS.tgt_len\n",
    "num_core_per_host = FLAGS.num_core_per_host\n",
    "basename = 'train'"
   ]
  },
  {
   "cell_type": "code",
   "execution_count": 398,
   "metadata": {},
   "outputs": [
    {
     "data": {
      "text/plain": [
       "'train.bsz-2.tlen-10.core-8.tfrecords'"
      ]
     },
     "execution_count": 398,
     "metadata": {},
     "output_type": "execute_result"
    }
   ],
   "source": [
    "file_name = \"{}.bsz-{}.tlen-{}.core-{}.tfrecords\".format(\n",
    "        basename, batch_size, tgt_len, num_core_per_host)\n",
    "file_name"
   ]
  },
  {
   "cell_type": "code",
   "execution_count": 399,
   "metadata": {},
   "outputs": [],
   "source": [
    "save_path = os.path.join('data_tmp/', file_name)\n",
    "record_writer = tf.io.TFRecordWriter(save_path)"
   ]
  },
  {
   "cell_type": "code",
   "execution_count": 400,
   "metadata": {},
   "outputs": [],
   "source": [
    "num_passes = 2\n",
    "data_len = len(data)\n",
    "double_data = np.concatenate([data, data])\n",
    "data_list = list()"
   ]
  },
  {
   "cell_type": "markdown",
   "metadata": {},
   "source": [
    "Note that this step shuffles the data in a wrap-around fashion so that order is maintained except where the corpus ends and restarts."
   ]
  },
  {
   "cell_type": "code",
   "execution_count": 401,
   "metadata": {},
   "outputs": [],
   "source": [
    "for i in range(num_passes):\n",
    "    start = np.random.randint(0, data_len)\n",
    "    data_list.append(double_data[start:start+data_len])"
   ]
  },
  {
   "cell_type": "code",
   "execution_count": 402,
   "metadata": {},
   "outputs": [],
   "source": [
    "data2 = np.concatenate(data_list)"
   ]
  },
  {
   "cell_type": "code",
   "execution_count": 403,
   "metadata": {},
   "outputs": [],
   "source": [
    "num_step = (len(data2) // batch_size)\n",
    "#assert num_step == len(data2) / batch_size\n",
    "data2 = data2[:batch_size * num_step]\n",
    "data2 = data2.reshape((batch_size, num_step))"
   ]
  },
  {
   "cell_type": "code",
   "execution_count": 404,
   "metadata": {},
   "outputs": [],
   "source": [
    "def as_text(x):\n",
    "    x = [' '.join(corpus.vocab.get_symbols(i.astype('int'))) for i in x]\n",
    "    return '\\n\\n'.join(x)\n",
    "        "
   ]
  },
  {
   "cell_type": "code",
   "execution_count": 405,
   "metadata": {},
   "outputs": [
    {
     "data": {
      "text/plain": [
       "'she ; \" for Mrs. Long has just been here , and <eos> she told me all about it . \" <eos> <eos> Mr. Bennet made no answer . <eos> <eos> \" Do you not want to know who has taken it ? \" cried his wife <eos> impatiently . <eos> <eos> \" _ You _ want to tell me , and I have no objection to hearing it . \" <eos> <eos> This was invitation enough . <eos> <eos> \" Why , my dear , you must know , Mrs. Long says that Netherfield is <eos> taken by a young man of Chapter 1 <eos> <eos> It is a truth universally acknowledged , that a single man in <eos> possession of a good fortune , must be in want of a wife . <eos> <eos> However little known the feelings or views of such a man may be <eos> on his first entering a neighbourhood , this truth is so well <eos> fixed in the minds of the surrounding families , that he is <eos> considered the rightful property of some one or other of their <eos> daughters . <eos> <eos> \" My dear Mr. Bennet , \" said his lady to him one day , \" have you <eos> heard that Netherfield Park is let at last ? \" <eos> <eos> Mr. Bennet replied that he had not . <eos> <eos> \" But it is , \" returned'"
      ]
     },
     "execution_count": 405,
     "metadata": {},
     "output_type": "execute_result"
    }
   ],
   "source": [
    "as_text(data2[:1])"
   ]
  },
  {
   "cell_type": "code",
   "execution_count": 406,
   "metadata": {},
   "outputs": [
    {
     "data": {
      "text/plain": [
       "array([[ 33,  90,   3,  91,  34,  35,  36,  92,  93,  94,   4,  37,   0,\n",
       "         33,  95,  38,  96,  97,  12,   5,   3,   0,   0,  17,  18,  98,\n",
       "         39,  99,   5,   0,   0,   3, 100,  19,  32,  15,  11,  40, 101,\n",
       "         36,  41,  12,  31,   3, 102,  16,  24,   0, 103,   5,   0,   0,\n",
       "          3,  42, 104,  42,  15,  11, 105,  38,   4,  37, 106,  29,  39,\n",
       "        107,  11, 108,  12,   5,   3,   0,   0, 109, 110, 111, 112,   5,\n",
       "          0,   0,   3, 113,   4, 114,  28,   4,  19,  22,  40,   4,  34,\n",
       "         35, 115,   9,  30,   8,   0,  41, 116,   6, 117,  13,   7,  43,\n",
       "         44,   0,   0,  45,   8,   6,  20,  46,  47,   4,   9,   6,  48,\n",
       "         13,  14,   0,  49,   7,   6,  50,  21,   4,  22,  23,  14,  15,\n",
       "          7,   6,  24,   5,   0,   0,  51,  52,  53,  10,  54,  25,  55,\n",
       "          7,  56,   6,  13,  57,  23,   0,  58,  16,  59,  60,   6,  61,\n",
       "          4,  62,  20,   8,  63,  64,   0,  65,  14,  10,  66,   7,  10,\n",
       "         67,  68,   4,   9,  26,   8,   0,  69,  10,  70,  71,   7,  72,\n",
       "         27,  25,  73,   7,  74,   0,  75,   5,   0,   0,   3,  76,  28,\n",
       "         17,  18,   4,   3,  77,  16,  78,  11,  79,  27,  80,   4,   3,\n",
       "         29,  19,   0,  81,   9,  30,  82,   8,  83,  84,  85,  31,   3,\n",
       "          0,   0,  17,  18,  86,   9,  26,  87,  32,   5,   0,   0,   3,\n",
       "         88,  12,   8,   4,   3,  89]])"
      ]
     },
     "execution_count": 406,
     "metadata": {},
     "output_type": "execute_result"
    }
   ],
   "source": [
    "data2[:1]"
   ]
  },
  {
   "cell_type": "code",
   "execution_count": 407,
   "metadata": {
    "scrolled": false
   },
   "outputs": [
    {
     "name": "stdout",
     "output_type": "stream",
     "text": [
      "she ; \" for Mrs. Long has just been here , and <eos> she told me all about it . \" <eos> <eos> Mr. Bennet made no answer . <eos> <eos> \" Do you not want to know who has taken it ? \" cried his wife <eos> impatiently . <eos> <eos> \" _ You _ want to tell me , and I have no objection to hearing it . \" <eos> <eos> This was invitation enough . <eos> <eos> \" Why , my dear , you must know , Mrs. Long says that Netherfield is <eos> taken by a young man of Chapter 1 <eos> <eos> It is a truth universally acknowledged , that a single man in <eos> possession of a good fortune , must be in want of a wife . <eos> <eos> However little known the feelings or views of such a man may be <eos> on his first entering a neighbourhood , this truth is so well <eos> fixed in the minds of the surrounding families , that he is <eos> considered the rightful property of some one or other of their <eos> daughters . <eos> <eos> \" My dear Mr. Bennet , \" said his lady to him one day , \" have you <eos> heard that Netherfield Park is let at last ? \" <eos> <eos> Mr. Bennet replied that he had not . <eos> <eos> \" But it is , \" returned\n",
      "\n",
      "\n",
      ". <eos> <eos> \" Do you not want to know who has taken it ? \" cried his wife <eos> impatiently . <eos> <eos> \" _ You _ want to tell me , and I have no objection to hearing it . \" <eos> <eos> This was invitation enough . <eos> <eos> \" Why , my dear , you must know , Mrs. Long says that Netherfield is <eos> taken by a young man of Chapter 1 <eos> <eos> It is a truth universally acknowledged , that a single man in <eos> possession of a good fortune , must be in want of a wife . <eos> <eos> However little known the feelings or views of such a man may be <eos> on his first entering a neighbourhood , this truth is so well <eos> fixed in the minds of the surrounding families , that he is <eos> considered the rightful property of some one or other of their <eos> daughters . <eos> <eos> \" My dear Mr. Bennet , \" said his lady to him one day , \" have you <eos> heard that Netherfield Park is let at last ? \" <eos> <eos> Mr. Bennet replied that he had not . <eos> <eos> \" But it is , \" returned she ; \" for Mrs. Long has just been here , and <eos> she told me all about it . \" <eos> <eos> Mr. Bennet made no answer\n",
      "\n",
      "\n"
     ]
    }
   ],
   "source": [
    "for l in [' '.join(corpus.vocab.get_symbols(i.astype('int'))) for i in data2]:\n",
    "    print(l + '\\n\\n')"
   ]
  },
  {
   "cell_type": "code",
   "execution_count": 408,
   "metadata": {},
   "outputs": [],
   "source": [
    "num_batch = 0"
   ]
  },
  {
   "cell_type": "code",
   "execution_count": 409,
   "metadata": {},
   "outputs": [
    {
     "data": {
      "text/plain": [
       "(2, 240)"
      ]
     },
     "execution_count": 409,
     "metadata": {},
     "output_type": "execute_result"
    }
   ],
   "source": [
    "data2.shape"
   ]
  },
  {
   "cell_type": "markdown",
   "metadata": {},
   "source": [
    "What this does:\n",
    "- Splits each batch element into chunks of size `tgt_len` dropping the any remainder whose length is less that `tgt_len`\n",
    "- Inputs and labels otherwise as usual (label shifted ahead by one)\n",
    "\n",
    "TODO:\n",
    "- [x] Why are there double `<eos>` symbols here? - because of blank lines which get converted to a single `<eos>`"
   ]
  },
  {
   "cell_type": "code",
   "execution_count": 410,
   "metadata": {
    "scrolled": false
   },
   "outputs": [
    {
     "name": "stdout",
     "output_type": "stream",
     "text": [
      "tgt_len=10, data2.shape[1] - 1 - t = 239, cur_tgt_len = 10\n",
      "\n",
      "idx=0, t=0, (t, t + cur_tgt_len)=(0, 10), (t + 1, t + cur_tgt_len + 1)=(0, 10)\n",
      "inputs||she ; \" for Mrs. Long has just been here\n",
      "targets||; \" for Mrs. Long has just been here ,\n",
      "\n",
      "idx=1, t=0, (t, t + cur_tgt_len)=(0, 10), (t + 1, t + cur_tgt_len + 1)=(0, 10)\n",
      "inputs||. <eos> <eos> \" Do you not want to know\n",
      "targets||<eos> <eos> \" Do you not want to know who\n",
      "\n",
      "================================================================================\n",
      "\n",
      "tgt_len=10, data2.shape[1] - 1 - t = 229, cur_tgt_len = 10\n",
      "\n",
      "idx=0, t=10, (t, t + cur_tgt_len)=(10, 20), (t + 1, t + cur_tgt_len + 1)=(10, 20)\n",
      "inputs||, and <eos> she told me all about it .\n",
      "targets||and <eos> she told me all about it . \"\n",
      "\n",
      "idx=1, t=10, (t, t + cur_tgt_len)=(10, 20), (t + 1, t + cur_tgt_len + 1)=(10, 20)\n",
      "inputs||who has taken it ? \" cried his wife <eos>\n",
      "targets||has taken it ? \" cried his wife <eos> impatiently\n",
      "\n",
      "================================================================================\n",
      "\n",
      "tgt_len=10, data2.shape[1] - 1 - t = 219, cur_tgt_len = 10\n",
      "\n",
      "idx=0, t=20, (t, t + cur_tgt_len)=(20, 30), (t + 1, t + cur_tgt_len + 1)=(20, 30)\n",
      "inputs||\" <eos> <eos> Mr. Bennet made no answer . <eos>\n",
      "targets||<eos> <eos> Mr. Bennet made no answer . <eos> <eos>\n",
      "\n",
      "idx=1, t=20, (t, t + cur_tgt_len)=(20, 30), (t + 1, t + cur_tgt_len + 1)=(20, 30)\n",
      "inputs||impatiently . <eos> <eos> \" _ You _ want to\n",
      "targets||. <eos> <eos> \" _ You _ want to tell\n",
      "\n",
      "================================================================================\n",
      "\n",
      "tgt_len=10, data2.shape[1] - 1 - t = 209, cur_tgt_len = 10\n",
      "\n",
      "idx=0, t=30, (t, t + cur_tgt_len)=(30, 40), (t + 1, t + cur_tgt_len + 1)=(30, 40)\n",
      "inputs||<eos> \" Do you not want to know who has\n",
      "targets||\" Do you not want to know who has taken\n",
      "\n",
      "idx=1, t=30, (t, t + cur_tgt_len)=(30, 40), (t + 1, t + cur_tgt_len + 1)=(30, 40)\n",
      "inputs||tell me , and I have no objection to hearing\n",
      "targets||me , and I have no objection to hearing it\n",
      "\n",
      "================================================================================\n",
      "\n",
      "tgt_len=10, data2.shape[1] - 1 - t = 199, cur_tgt_len = 10\n",
      "\n",
      "idx=0, t=40, (t, t + cur_tgt_len)=(40, 50), (t + 1, t + cur_tgt_len + 1)=(40, 50)\n",
      "inputs||taken it ? \" cried his wife <eos> impatiently .\n",
      "targets||it ? \" cried his wife <eos> impatiently . <eos>\n",
      "\n",
      "idx=1, t=40, (t, t + cur_tgt_len)=(40, 50), (t + 1, t + cur_tgt_len + 1)=(40, 50)\n",
      "inputs||it . \" <eos> <eos> This was invitation enough .\n",
      "targets||. \" <eos> <eos> This was invitation enough . <eos>\n",
      "\n",
      "================================================================================\n",
      "\n",
      "tgt_len=10, data2.shape[1] - 1 - t = 189, cur_tgt_len = 10\n",
      "\n",
      "idx=0, t=50, (t, t + cur_tgt_len)=(50, 60), (t + 1, t + cur_tgt_len + 1)=(50, 60)\n",
      "inputs||<eos> <eos> \" _ You _ want to tell me\n",
      "targets||<eos> \" _ You _ want to tell me ,\n",
      "\n",
      "idx=1, t=50, (t, t + cur_tgt_len)=(50, 60), (t + 1, t + cur_tgt_len + 1)=(50, 60)\n",
      "inputs||<eos> <eos> \" Why , my dear , you must\n",
      "targets||<eos> \" Why , my dear , you must know\n",
      "\n",
      "================================================================================\n",
      "\n",
      "tgt_len=10, data2.shape[1] - 1 - t = 179, cur_tgt_len = 10\n",
      "\n",
      "idx=0, t=60, (t, t + cur_tgt_len)=(60, 70), (t + 1, t + cur_tgt_len + 1)=(60, 70)\n",
      "inputs||, and I have no objection to hearing it .\n",
      "targets||and I have no objection to hearing it . \"\n",
      "\n",
      "idx=1, t=60, (t, t + cur_tgt_len)=(60, 70), (t + 1, t + cur_tgt_len + 1)=(60, 70)\n",
      "inputs||know , Mrs. Long says that Netherfield is <eos> taken\n",
      "targets||, Mrs. Long says that Netherfield is <eos> taken by\n",
      "\n",
      "================================================================================\n",
      "\n",
      "tgt_len=10, data2.shape[1] - 1 - t = 169, cur_tgt_len = 10\n",
      "\n",
      "idx=0, t=70, (t, t + cur_tgt_len)=(70, 80), (t + 1, t + cur_tgt_len + 1)=(70, 80)\n",
      "inputs||\" <eos> <eos> This was invitation enough . <eos> <eos>\n",
      "targets||<eos> <eos> This was invitation enough . <eos> <eos> \"\n",
      "\n",
      "idx=1, t=70, (t, t + cur_tgt_len)=(70, 80), (t + 1, t + cur_tgt_len + 1)=(70, 80)\n",
      "inputs||by a young man of Chapter 1 <eos> <eos> It\n",
      "targets||a young man of Chapter 1 <eos> <eos> It is\n",
      "\n",
      "================================================================================\n",
      "\n",
      "tgt_len=10, data2.shape[1] - 1 - t = 159, cur_tgt_len = 10\n",
      "\n",
      "idx=0, t=80, (t, t + cur_tgt_len)=(80, 90), (t + 1, t + cur_tgt_len + 1)=(80, 90)\n",
      "inputs||\" Why , my dear , you must know ,\n",
      "targets||Why , my dear , you must know , Mrs.\n",
      "\n",
      "idx=1, t=80, (t, t + cur_tgt_len)=(80, 90), (t + 1, t + cur_tgt_len + 1)=(80, 90)\n",
      "inputs||is a truth universally acknowledged , that a single man\n",
      "targets||a truth universally acknowledged , that a single man in\n",
      "\n",
      "================================================================================\n",
      "\n",
      "tgt_len=10, data2.shape[1] - 1 - t = 149, cur_tgt_len = 10\n",
      "\n",
      "idx=0, t=90, (t, t + cur_tgt_len)=(90, 100), (t + 1, t + cur_tgt_len + 1)=(90, 100)\n",
      "inputs||Mrs. Long says that Netherfield is <eos> taken by a\n",
      "targets||Long says that Netherfield is <eos> taken by a young\n",
      "\n",
      "idx=1, t=90, (t, t + cur_tgt_len)=(90, 100), (t + 1, t + cur_tgt_len + 1)=(90, 100)\n",
      "inputs||in <eos> possession of a good fortune , must be\n",
      "targets||<eos> possession of a good fortune , must be in\n",
      "\n",
      "================================================================================\n",
      "\n",
      "tgt_len=10, data2.shape[1] - 1 - t = 139, cur_tgt_len = 10\n",
      "\n",
      "idx=0, t=100, (t, t + cur_tgt_len)=(100, 110), (t + 1, t + cur_tgt_len + 1)=(100, 110)\n",
      "inputs||young man of Chapter 1 <eos> <eos> It is a\n",
      "targets||man of Chapter 1 <eos> <eos> It is a truth\n",
      "\n",
      "idx=1, t=100, (t, t + cur_tgt_len)=(100, 110), (t + 1, t + cur_tgt_len + 1)=(100, 110)\n",
      "inputs||in want of a wife . <eos> <eos> However little\n",
      "targets||want of a wife . <eos> <eos> However little known\n",
      "\n",
      "================================================================================\n",
      "\n",
      "tgt_len=10, data2.shape[1] - 1 - t = 129, cur_tgt_len = 10\n",
      "\n",
      "idx=0, t=110, (t, t + cur_tgt_len)=(110, 120), (t + 1, t + cur_tgt_len + 1)=(110, 120)\n",
      "inputs||truth universally acknowledged , that a single man in <eos>\n",
      "targets||universally acknowledged , that a single man in <eos> possession\n",
      "\n",
      "idx=1, t=110, (t, t + cur_tgt_len)=(110, 120), (t + 1, t + cur_tgt_len + 1)=(110, 120)\n",
      "inputs||known the feelings or views of such a man may\n",
      "targets||the feelings or views of such a man may be\n",
      "\n",
      "================================================================================\n",
      "\n",
      "tgt_len=10, data2.shape[1] - 1 - t = 119, cur_tgt_len = 10\n",
      "\n",
      "idx=0, t=120, (t, t + cur_tgt_len)=(120, 130), (t + 1, t + cur_tgt_len + 1)=(120, 130)\n",
      "inputs||possession of a good fortune , must be in want\n",
      "targets||of a good fortune , must be in want of\n",
      "\n",
      "idx=1, t=120, (t, t + cur_tgt_len)=(120, 130), (t + 1, t + cur_tgt_len + 1)=(120, 130)\n",
      "inputs||be <eos> on his first entering a neighbourhood , this\n",
      "targets||<eos> on his first entering a neighbourhood , this truth\n",
      "\n",
      "================================================================================\n",
      "\n",
      "tgt_len=10, data2.shape[1] - 1 - t = 109, cur_tgt_len = 10\n",
      "\n",
      "idx=0, t=130, (t, t + cur_tgt_len)=(130, 140), (t + 1, t + cur_tgt_len + 1)=(130, 140)\n",
      "inputs||of a wife . <eos> <eos> However little known the\n",
      "targets||a wife . <eos> <eos> However little known the feelings\n",
      "\n",
      "idx=1, t=130, (t, t + cur_tgt_len)=(130, 140), (t + 1, t + cur_tgt_len + 1)=(130, 140)\n",
      "inputs||truth is so well <eos> fixed in the minds of\n",
      "targets||is so well <eos> fixed in the minds of the\n",
      "\n",
      "================================================================================\n",
      "\n",
      "tgt_len=10, data2.shape[1] - 1 - t = 99, cur_tgt_len = 10\n",
      "\n",
      "idx=0, t=140, (t, t + cur_tgt_len)=(140, 150), (t + 1, t + cur_tgt_len + 1)=(140, 150)\n",
      "inputs||feelings or views of such a man may be <eos>\n",
      "targets||or views of such a man may be <eos> on\n",
      "\n",
      "idx=1, t=140, (t, t + cur_tgt_len)=(140, 150), (t + 1, t + cur_tgt_len + 1)=(140, 150)\n",
      "inputs||the surrounding families , that he is <eos> considered the\n",
      "targets||surrounding families , that he is <eos> considered the rightful\n",
      "\n",
      "================================================================================\n",
      "\n",
      "tgt_len=10, data2.shape[1] - 1 - t = 89, cur_tgt_len = 10\n",
      "\n",
      "idx=0, t=150, (t, t + cur_tgt_len)=(150, 160), (t + 1, t + cur_tgt_len + 1)=(150, 160)\n",
      "inputs||on his first entering a neighbourhood , this truth is\n",
      "targets||his first entering a neighbourhood , this truth is so\n",
      "\n",
      "idx=1, t=150, (t, t + cur_tgt_len)=(150, 160), (t + 1, t + cur_tgt_len + 1)=(150, 160)\n",
      "inputs||rightful property of some one or other of their <eos>\n",
      "targets||property of some one or other of their <eos> daughters\n",
      "\n",
      "================================================================================\n",
      "\n",
      "tgt_len=10, data2.shape[1] - 1 - t = 79, cur_tgt_len = 10\n",
      "\n",
      "idx=0, t=160, (t, t + cur_tgt_len)=(160, 170), (t + 1, t + cur_tgt_len + 1)=(160, 170)\n",
      "inputs||so well <eos> fixed in the minds of the surrounding\n",
      "targets||well <eos> fixed in the minds of the surrounding families\n",
      "\n",
      "idx=1, t=160, (t, t + cur_tgt_len)=(160, 170), (t + 1, t + cur_tgt_len + 1)=(160, 170)\n",
      "inputs||daughters . <eos> <eos> \" My dear Mr. Bennet ,\n",
      "targets||. <eos> <eos> \" My dear Mr. Bennet , \"\n",
      "\n",
      "================================================================================\n",
      "\n",
      "tgt_len=10, data2.shape[1] - 1 - t = 69, cur_tgt_len = 10\n",
      "\n",
      "idx=0, t=170, (t, t + cur_tgt_len)=(170, 180), (t + 1, t + cur_tgt_len + 1)=(170, 180)\n",
      "inputs||families , that he is <eos> considered the rightful property\n",
      "targets||, that he is <eos> considered the rightful property of\n",
      "\n",
      "idx=1, t=170, (t, t + cur_tgt_len)=(170, 180), (t + 1, t + cur_tgt_len + 1)=(170, 180)\n",
      "inputs||\" said his lady to him one day , \"\n",
      "targets||said his lady to him one day , \" have\n",
      "\n",
      "================================================================================\n",
      "\n",
      "tgt_len=10, data2.shape[1] - 1 - t = 59, cur_tgt_len = 10\n",
      "\n",
      "idx=0, t=180, (t, t + cur_tgt_len)=(180, 190), (t + 1, t + cur_tgt_len + 1)=(180, 190)\n",
      "inputs||of some one or other of their <eos> daughters .\n",
      "targets||some one or other of their <eos> daughters . <eos>\n",
      "\n",
      "idx=1, t=180, (t, t + cur_tgt_len)=(180, 190), (t + 1, t + cur_tgt_len + 1)=(180, 190)\n",
      "inputs||have you <eos> heard that Netherfield Park is let at\n",
      "targets||you <eos> heard that Netherfield Park is let at last\n",
      "\n",
      "================================================================================\n",
      "\n",
      "tgt_len=10, data2.shape[1] - 1 - t = 49, cur_tgt_len = 10\n",
      "\n",
      "idx=0, t=190, (t, t + cur_tgt_len)=(190, 200), (t + 1, t + cur_tgt_len + 1)=(190, 200)\n",
      "inputs||<eos> <eos> \" My dear Mr. Bennet , \" said\n",
      "targets||<eos> \" My dear Mr. Bennet , \" said his\n",
      "\n",
      "idx=1, t=190, (t, t + cur_tgt_len)=(190, 200), (t + 1, t + cur_tgt_len + 1)=(190, 200)\n",
      "inputs||last ? \" <eos> <eos> Mr. Bennet replied that he\n",
      "targets||? \" <eos> <eos> Mr. Bennet replied that he had\n",
      "\n",
      "================================================================================\n",
      "\n",
      "tgt_len=10, data2.shape[1] - 1 - t = 39, cur_tgt_len = 10\n",
      "\n",
      "idx=0, t=200, (t, t + cur_tgt_len)=(200, 210), (t + 1, t + cur_tgt_len + 1)=(200, 210)\n",
      "inputs||his lady to him one day , \" have you\n",
      "targets||lady to him one day , \" have you <eos>\n",
      "\n",
      "idx=1, t=200, (t, t + cur_tgt_len)=(200, 210), (t + 1, t + cur_tgt_len + 1)=(200, 210)\n",
      "inputs||had not . <eos> <eos> \" But it is ,\n",
      "targets||not . <eos> <eos> \" But it is , \"\n",
      "\n",
      "================================================================================\n",
      "\n",
      "tgt_len=10, data2.shape[1] - 1 - t = 29, cur_tgt_len = 10\n",
      "\n",
      "idx=0, t=210, (t, t + cur_tgt_len)=(210, 220), (t + 1, t + cur_tgt_len + 1)=(210, 220)\n",
      "inputs||<eos> heard that Netherfield Park is let at last ?\n",
      "targets||heard that Netherfield Park is let at last ? \"\n",
      "\n",
      "idx=1, t=210, (t, t + cur_tgt_len)=(210, 220), (t + 1, t + cur_tgt_len + 1)=(210, 220)\n",
      "inputs||\" returned she ; \" for Mrs. Long has just\n",
      "targets||returned she ; \" for Mrs. Long has just been\n",
      "\n",
      "================================================================================\n",
      "\n",
      "tgt_len=10, data2.shape[1] - 1 - t = 19, cur_tgt_len = 10\n",
      "\n",
      "idx=0, t=220, (t, t + cur_tgt_len)=(220, 230), (t + 1, t + cur_tgt_len + 1)=(220, 230)\n",
      "inputs||\" <eos> <eos> Mr. Bennet replied that he had not\n",
      "targets||<eos> <eos> Mr. Bennet replied that he had not .\n",
      "\n",
      "idx=1, t=220, (t, t + cur_tgt_len)=(220, 230), (t + 1, t + cur_tgt_len + 1)=(220, 230)\n",
      "inputs||been here , and <eos> she told me all about\n",
      "targets||here , and <eos> she told me all about it\n",
      "\n",
      "================================================================================\n",
      "\n",
      "tgt_len=10, data2.shape[1] - 1 - t = 9, cur_tgt_len = 9\n",
      "\n",
      "Breaking\n"
     ]
    }
   ],
   "source": [
    "for t in range(0, data2.shape[1] - 1, tgt_len):\n",
    "    cur_tgt_len = min(data2.shape[1] - 1 - t, tgt_len)\n",
    "    print(f'tgt_len={tgt_len}, data2.shape[1] - 1 - t = {data2.shape[1] - 1 - t}, cur_tgt_len = {cur_tgt_len}\\n')\n",
    "    if cur_tgt_len < tgt_len:\n",
    "        print('Breaking')\n",
    "        break\n",
    "        \n",
    "    for idx in range(batch_size):\n",
    "        inputs = data2[idx, t:t + cur_tgt_len]\n",
    "        labels = data2[idx, t + 1:t + cur_tgt_len + 1]\n",
    "        print(f'idx={idx}, t={t}, (t, t + cur_tgt_len)={(t, t + cur_tgt_len)}, (t + 1, t + cur_tgt_len + 1)={(t, t + cur_tgt_len)}')\n",
    "        print('inputs||' + as_text([inputs]))\n",
    "        print('targets||' + as_text([labels]))\n",
    "        print()\n",
    "    \n",
    "    print('=' * 80 + '\\n')"
   ]
  },
  {
   "cell_type": "code",
   "execution_count": 411,
   "metadata": {},
   "outputs": [],
   "source": [
    "def _int64_feature(values):\n",
    "    return tf.train.Feature(int64_list=tf.train.Int64List(value=values))\n",
    "\n",
    "\n",
    "def _float_feature(values):\n",
    "    return tf.train.Feature(float_list=tf.train.FloatList(value=values))"
   ]
  },
  {
   "cell_type": "code",
   "execution_count": 412,
   "metadata": {},
   "outputs": [
    {
     "data": {
      "text/plain": [
       "{'inputs': int64_list {\n",
       "   value: 93\n",
       "   value: 94\n",
       "   value: 4\n",
       "   value: 37\n",
       "   value: 0\n",
       "   value: 33\n",
       "   value: 95\n",
       "   value: 38\n",
       "   value: 96\n",
       "   value: 97\n",
       " },\n",
       " 'labels': int64_list {\n",
       "   value: 94\n",
       "   value: 4\n",
       "   value: 37\n",
       "   value: 0\n",
       "   value: 33\n",
       "   value: 95\n",
       "   value: 38\n",
       "   value: 96\n",
       "   value: 97\n",
       "   value: 12\n",
       " }}"
      ]
     },
     "execution_count": 412,
     "metadata": {},
     "output_type": "execute_result"
    }
   ],
   "source": [
    "feature = {\n",
    "          \"inputs\": _int64_feature(inputs),\n",
    "          \"labels\": _int64_feature(labels),\n",
    "      }\n",
    "feature"
   ]
  },
  {
   "cell_type": "code",
   "execution_count": 413,
   "metadata": {},
   "outputs": [
    {
     "data": {
      "text/plain": [
       "[0, 20000, 40000, 200000, 121]"
      ]
     },
     "execution_count": 413,
     "metadata": {},
     "output_type": "execute_result"
    }
   ],
   "source": [
    "corpus.cutoffs"
   ]
  },
  {
   "cell_type": "code",
   "execution_count": 414,
   "metadata": {},
   "outputs": [
    {
     "data": {
      "text/plain": [
       "(5, 3)"
      ]
     },
     "execution_count": 414,
     "metadata": {},
     "output_type": "execute_result"
    }
   ],
   "source": [
    "len(corpus.cutoffs), len(bin_sizes)"
   ]
  },
  {
   "cell_type": "code",
   "execution_count": 415,
   "metadata": {},
   "outputs": [],
   "source": [
    "left, right = corpus.cutoffs[:2]\n",
    "inp_mask = ((inputs >= left) * (inputs < right)).astype(np.float32)\n",
    "tgt_mask = ((labels >= left) * (labels < right)).astype(np.float32)"
   ]
  },
  {
   "cell_type": "code",
   "execution_count": 416,
   "metadata": {},
   "outputs": [
    {
     "data": {
      "text/plain": [
       "(0, 20000)"
      ]
     },
     "execution_count": 416,
     "metadata": {},
     "output_type": "execute_result"
    }
   ],
   "source": [
    "left, right"
   ]
  },
  {
   "cell_type": "code",
   "execution_count": 417,
   "metadata": {},
   "outputs": [
    {
     "data": {
      "text/plain": [
       "array([1., 1., 1., 1., 1., 1., 1., 1., 1., 1.], dtype=float32)"
      ]
     },
     "execution_count": 417,
     "metadata": {},
     "output_type": "execute_result"
    }
   ],
   "source": [
    "inp_mask"
   ]
  },
  {
   "cell_type": "code",
   "execution_count": 418,
   "metadata": {},
   "outputs": [
    {
     "data": {
      "text/plain": [
       "array([1., 1., 1., 1., 1., 1., 1., 1., 1., 1.], dtype=float32)"
      ]
     },
     "execution_count": 418,
     "metadata": {},
     "output_type": "execute_result"
    }
   ],
   "source": [
    "tgt_mask"
   ]
  },
  {
   "cell_type": "code",
   "execution_count": 419,
   "metadata": {},
   "outputs": [
    {
     "data": {
      "text/plain": [
       "{'inputs': int64_list {\n",
       "   value: 93\n",
       "   value: 94\n",
       "   value: 4\n",
       "   value: 37\n",
       "   value: 0\n",
       "   value: 33\n",
       "   value: 95\n",
       "   value: 38\n",
       "   value: 96\n",
       "   value: 97\n",
       " },\n",
       " 'labels': int64_list {\n",
       "   value: 94\n",
       "   value: 4\n",
       "   value: 37\n",
       "   value: 0\n",
       "   value: 33\n",
       "   value: 95\n",
       "   value: 38\n",
       "   value: 96\n",
       "   value: 97\n",
       "   value: 12\n",
       " },\n",
       " 'inp_mask': float_list {\n",
       "   value: 1.0\n",
       "   value: 1.0\n",
       "   value: 1.0\n",
       "   value: 1.0\n",
       "   value: 1.0\n",
       "   value: 1.0\n",
       "   value: 1.0\n",
       "   value: 1.0\n",
       "   value: 1.0\n",
       "   value: 1.0\n",
       " },\n",
       " 'tgt_mask': float_list {\n",
       "   value: 1.0\n",
       "   value: 1.0\n",
       "   value: 1.0\n",
       "   value: 1.0\n",
       "   value: 1.0\n",
       "   value: 1.0\n",
       "   value: 1.0\n",
       "   value: 1.0\n",
       "   value: 1.0\n",
       "   value: 1.0\n",
       " }}"
      ]
     },
     "execution_count": 419,
     "metadata": {},
     "output_type": "execute_result"
    }
   ],
   "source": [
    "feature[\"inp_mask\"] = _float_feature(inp_mask)\n",
    "feature[\"tgt_mask\"] = _float_feature(tgt_mask)\n",
    "feature "
   ]
  },
  {
   "cell_type": "code",
   "execution_count": 420,
   "metadata": {},
   "outputs": [
    {
     "data": {
      "text/plain": [
       "1"
      ]
     },
     "execution_count": 420,
     "metadata": {},
     "output_type": "execute_result"
    }
   ],
   "source": [
    "tmp_batch_size = 10\n",
    "tmp_batch_size // num_core_per_host"
   ]
  },
  {
   "cell_type": "code",
   "execution_count": 421,
   "metadata": {},
   "outputs": [
    {
     "data": {
      "text/plain": [
       "([0, 0, 0], [0, 0, 0])"
      ]
     },
     "execution_count": 421,
     "metadata": {},
     "output_type": "execute_result"
    }
   ],
   "source": [
    "inp_cnts = [0] * len(bin_sizes)\n",
    "tgt_cnts = [0] * len(bin_sizes)\n",
    "\n",
    "inp_cnts, tgt_cnts"
   ]
  },
  {
   "cell_type": "code",
   "execution_count": 436,
   "metadata": {},
   "outputs": [
    {
     "data": {
      "text/plain": [
       "(array([93, 94,  4, 37,  0, 33, 95, 38, 96, 97]),\n",
       " array([94,  4, 37,  0, 33, 95, 38, 96, 97, 12]))"
      ]
     },
     "execution_count": 436,
     "metadata": {},
     "output_type": "execute_result"
    }
   ],
   "source": [
    "inputs, labels"
   ]
  },
  {
   "cell_type": "code",
   "execution_count": 444,
   "metadata": {},
   "outputs": [
    {
     "data": {
      "text/plain": [
       "([array([], dtype=int64), array([3, 5, 7]), array([0, 1, 6, 8, 9])],\n",
       " [array([9]), array([2, 4, 6]), array([0, 5, 7, 8])])"
      ]
     },
     "execution_count": 444,
     "metadata": {},
     "output_type": "execute_result"
    }
   ],
   "source": [
    "inp_pos_per_bin, tgt_pos_per_bin"
   ]
  },
  {
   "cell_type": "code",
   "execution_count": 445,
   "metadata": {},
   "outputs": [
    {
     "name": "stdout",
     "output_type": "stream",
     "text": [
      "inp_pos_per_bin = [], tgt_pos_per_bin = [], head_labels = [94  4 37  0 33 95 38 96 97 12]\n",
      "\n",
      "b=0, left=10, right=25\n",
      "inp_pos = [], tgt_pos = [9], inp_pos_per_bin = [array([], dtype=int64)], tgt_pos_per_bin = [array([9])], head_labels = [94  4 37  0 33 95 38 96 97 10], cutoffs[1] + b = 10\n",
      "\n",
      "b=1, left=25, right=50\n",
      "inp_pos = [3 5 7], tgt_pos = [2 4 6], inp_pos_per_bin = [array([], dtype=int64), array([3, 5, 7])], tgt_pos_per_bin = [array([9]), array([2, 4, 6])], head_labels = [94  4 11  0 11 95 11 96 97 10], cutoffs[1] + b = 11\n",
      "\n",
      "b=2, left=50, right=100\n",
      "inp_pos = [0 1 6 8 9], tgt_pos = [0 5 7 8], inp_pos_per_bin = [array([], dtype=int64), array([3, 5, 7]), array([0, 1, 6, 8, 9])], tgt_pos_per_bin = [array([9]), array([2, 4, 6]), array([0, 5, 7, 8])], head_labels = [12  4 11  0 11 12 11 12 12 10], cutoffs[1] + b = 12\n",
      "\n"
     ]
    }
   ],
   "source": [
    "head_labels = np.copy(labels)\n",
    "\n",
    "left, right = cutoffs[:2]\n",
    "inp_mask = ((inputs >= left) * (inputs < right)).astype(np.float32)\n",
    "tgt_mask = ((labels >= left) * (labels < right)).astype(np.float32)\n",
    "\n",
    "feature[\"inp_mask\"] = _float_feature(inp_mask)\n",
    "feature[\"tgt_mask\"] = _float_feature(tgt_mask)\n",
    "\n",
    "inp_pos_per_bin, tgt_pos_per_bin = [], []\n",
    "cutoffs = [0, 10, 25, 50, 100]\n",
    "print(\n",
    "     f'inp_pos_per_bin = {inp_pos_per_bin}, ' + \n",
    "     f'tgt_pos_per_bin = {tgt_pos_per_bin}, ' +\n",
    "     f'head_labels = {head_labels}' )\n",
    "print()\n",
    "for b, (left, right) in enumerate(zip(cutoffs[1:-1], cutoffs[2:])):\n",
    "\n",
    "    inp_pos = np.where((inputs >= left) * (inputs < right))[0]\n",
    "    tgt_pos = np.where((labels >= left) * (labels < right))[0]\n",
    "    inp_pos_per_bin.append(inp_pos)\n",
    "    tgt_pos_per_bin.append(tgt_pos)\n",
    "\n",
    "    # All these target locations have this value\n",
    "    head_labels[tgt_pos] = cutoffs[1] + b\n",
    "    print(f'b={b}, left={left}, right={right}')\n",
    "    print(f'inp_pos = {inp_pos}, ' + \n",
    "          f'tgt_pos = {tgt_pos}, ' + \n",
    "         f'inp_pos_per_bin = {inp_pos_per_bin}, ' + \n",
    "         f'tgt_pos_per_bin = {tgt_pos_per_bin}, ' +\n",
    "         f'head_labels = {head_labels}, ' \n",
    "         f'cutoffs[1] + b = {cutoffs[1] + b}')\n",
    "    print()"
   ]
  },
  {
   "cell_type": "code",
   "execution_count": 446,
   "metadata": {},
   "outputs": [
    {
     "data": {
      "text/plain": [
       "{'inputs': int64_list {\n",
       "   value: 93\n",
       "   value: 94\n",
       "   value: 4\n",
       "   value: 37\n",
       "   value: 0\n",
       "   value: 33\n",
       "   value: 95\n",
       "   value: 38\n",
       "   value: 96\n",
       "   value: 97\n",
       " },\n",
       " 'labels': int64_list {\n",
       "   value: 94\n",
       "   value: 4\n",
       "   value: 37\n",
       "   value: 0\n",
       "   value: 33\n",
       "   value: 95\n",
       "   value: 38\n",
       "   value: 96\n",
       "   value: 97\n",
       "   value: 12\n",
       " },\n",
       " 'inp_mask': float_list {\n",
       "   value: 0.0\n",
       "   value: 0.0\n",
       "   value: 1.0\n",
       "   value: 0.0\n",
       "   value: 1.0\n",
       "   value: 0.0\n",
       "   value: 0.0\n",
       "   value: 0.0\n",
       "   value: 0.0\n",
       "   value: 0.0\n",
       " },\n",
       " 'tgt_mask': float_list {\n",
       "   value: 0.0\n",
       "   value: 1.0\n",
       "   value: 0.0\n",
       "   value: 1.0\n",
       "   value: 0.0\n",
       "   value: 0.0\n",
       "   value: 0.0\n",
       "   value: 0.0\n",
       "   value: 0.0\n",
       "   value: 0.0\n",
       " },\n",
       " 'head_labels': int64_list {\n",
       "   value: 12\n",
       "   value: 4\n",
       "   value: 11\n",
       "   value: 0\n",
       "   value: 11\n",
       "   value: 12\n",
       "   value: 11\n",
       "   value: 12\n",
       "   value: 12\n",
       "   value: 10\n",
       " },\n",
       " 'inp_cnt_0': int64_list {\n",
       "   value: 0\n",
       " },\n",
       " 'inp_tup_0': int64_list {\n",
       " },\n",
       " 'inp_cnt_1': int64_list {\n",
       "   value: 3\n",
       " },\n",
       " 'inp_tup_1': int64_list {\n",
       "   value: 3\n",
       "   value: 3\n",
       "   value: 5\n",
       "   value: 4\n",
       "   value: 7\n",
       "   value: 5\n",
       " },\n",
       " 'inp_cnt_2': int64_list {\n",
       "   value: 3\n",
       " },\n",
       " 'inp_tup_2': int64_list {\n",
       "   value: 0\n",
       "   value: 5\n",
       "   value: 1\n",
       "   value: 6\n",
       "   value: 6\n",
       "   value: 7\n",
       " },\n",
       " 'tgt_cnt_0': int64_list {\n",
       "   value: 1\n",
       " },\n",
       " 'tgt_tup_0': int64_list {\n",
       "   value: 9\n",
       "   value: 1\n",
       " },\n",
       " 'tgt_cnt_1': int64_list {\n",
       "   value: 3\n",
       " },\n",
       " 'tgt_tup_1': int64_list {\n",
       "   value: 2\n",
       "   value: 3\n",
       "   value: 4\n",
       "   value: 4\n",
       "   value: 6\n",
       "   value: 5\n",
       " },\n",
       " 'tgt_cnt_2': int64_list {\n",
       "   value: 4\n",
       " },\n",
       " 'tgt_tup_2': int64_list {\n",
       "   value: 0\n",
       "   value: 4\n",
       "   value: 5\n",
       "   value: 5\n",
       "   value: 7\n",
       "   value: 6\n",
       "   value: 8\n",
       "   value: 7\n",
       " }}"
      ]
     },
     "execution_count": 446,
     "metadata": {},
     "output_type": "execute_result"
    }
   ],
   "source": [
    "feature"
   ]
  },
  {
   "cell_type": "code",
   "execution_count": 439,
   "metadata": {},
   "outputs": [],
   "source": [
    "feature[\"head_labels\"] = _int64_feature(head_labels)"
   ]
  },
  {
   "cell_type": "code",
   "execution_count": 440,
   "metadata": {},
   "outputs": [
    {
     "data": {
      "text/plain": [
       "{'inputs': int64_list {\n",
       "   value: 93\n",
       "   value: 94\n",
       "   value: 4\n",
       "   value: 37\n",
       "   value: 0\n",
       "   value: 33\n",
       "   value: 95\n",
       "   value: 38\n",
       "   value: 96\n",
       "   value: 97\n",
       " },\n",
       " 'labels': int64_list {\n",
       "   value: 94\n",
       "   value: 4\n",
       "   value: 37\n",
       "   value: 0\n",
       "   value: 33\n",
       "   value: 95\n",
       "   value: 38\n",
       "   value: 96\n",
       "   value: 97\n",
       "   value: 12\n",
       " },\n",
       " 'inp_mask': float_list {\n",
       "   value: 1.0\n",
       "   value: 1.0\n",
       "   value: 1.0\n",
       "   value: 1.0\n",
       "   value: 1.0\n",
       "   value: 1.0\n",
       "   value: 1.0\n",
       "   value: 1.0\n",
       "   value: 1.0\n",
       "   value: 1.0\n",
       " },\n",
       " 'tgt_mask': float_list {\n",
       "   value: 1.0\n",
       "   value: 1.0\n",
       "   value: 1.0\n",
       "   value: 1.0\n",
       "   value: 1.0\n",
       "   value: 1.0\n",
       "   value: 1.0\n",
       "   value: 1.0\n",
       "   value: 1.0\n",
       "   value: 1.0\n",
       " },\n",
       " 'head_labels': int64_list {\n",
       "   value: 12\n",
       "   value: 4\n",
       "   value: 11\n",
       "   value: 0\n",
       "   value: 11\n",
       "   value: 12\n",
       "   value: 11\n",
       "   value: 12\n",
       "   value: 12\n",
       "   value: 10\n",
       " },\n",
       " 'inp_cnt_0': int64_list {\n",
       "   value: 0\n",
       " },\n",
       " 'inp_tup_0': int64_list {\n",
       " },\n",
       " 'inp_cnt_1': int64_list {\n",
       "   value: 3\n",
       " },\n",
       " 'inp_tup_1': int64_list {\n",
       "   value: 3\n",
       "   value: 0\n",
       "   value: 5\n",
       "   value: 1\n",
       "   value: 7\n",
       "   value: 2\n",
       " },\n",
       " 'inp_cnt_2': int64_list {\n",
       "   value: 5\n",
       " },\n",
       " 'inp_tup_2': int64_list {\n",
       "   value: 0\n",
       "   value: 0\n",
       "   value: 1\n",
       "   value: 1\n",
       "   value: 6\n",
       "   value: 2\n",
       "   value: 8\n",
       "   value: 3\n",
       "   value: 9\n",
       "   value: 4\n",
       " },\n",
       " 'tgt_cnt_0': int64_list {\n",
       "   value: 1\n",
       " },\n",
       " 'tgt_tup_0': int64_list {\n",
       "   value: 9\n",
       "   value: 0\n",
       " },\n",
       " 'tgt_cnt_1': int64_list {\n",
       "   value: 3\n",
       " },\n",
       " 'tgt_tup_1': int64_list {\n",
       "   value: 2\n",
       "   value: 0\n",
       "   value: 4\n",
       "   value: 1\n",
       "   value: 6\n",
       "   value: 2\n",
       " },\n",
       " 'tgt_cnt_2': int64_list {\n",
       "   value: 4\n",
       " },\n",
       " 'tgt_tup_2': int64_list {\n",
       "   value: 0\n",
       "   value: 0\n",
       "   value: 5\n",
       "   value: 1\n",
       "   value: 7\n",
       "   value: 2\n",
       "   value: 8\n",
       "   value: 3\n",
       " }}"
      ]
     },
     "execution_count": 440,
     "metadata": {},
     "output_type": "execute_result"
    }
   ],
   "source": [
    "feature"
   ]
  },
  {
   "cell_type": "code",
   "execution_count": 441,
   "metadata": {},
   "outputs": [],
   "source": [
    "def _add_perm_feature(feature, pos_per_bin, cnts, prefix):\n",
    "  # Go through each bin\n",
    "  print(f'feature={feature}, pos_per_bin={pos_per_bin}, cnts={cnts}, prefix={prefix}')\n",
    "  for b, pos in enumerate(pos_per_bin):\n",
    "    print(f'\\tfor1 --- b={b}, pos={pos}')\n",
    "    idx_tuple = []\n",
    "    # if bin is not full add to bin (bin_id, num_so_far)\n",
    "    for p in pos:\n",
    "        print(f'\\t\\tfor2 --- p={p}')\n",
    "        print(f'\\t\\tfor2 --- cnts[b]={cnts[b]}, bin_sizes[b]={bin_sizes[b]}, cnts[b] < bin_sizes[b]={cnts[b] < bin_sizes[b]}')\n",
    "        if cnts[b] < bin_sizes[b]:\n",
    "            idx_tuple.append([p, cnts[b]])\n",
    "            print(f'\\t\\t\\tif --- idx_tuple={idx_tuple}')\n",
    "            cnts[b] += 1\n",
    "        else:\n",
    "            print('\\t\\t\\telse --- break')\n",
    "            break\n",
    "            \n",
    "        print()\n",
    "\n",
    "    n_tup = len(idx_tuple)\n",
    "    tup = np.array(idx_tuple).reshape(n_tup * 2)\n",
    "    \n",
    "    print(f'\\tfor1 --- n_tup={n_tup}, tup={tup}')\n",
    "    \n",
    "    print(f'\\tfor1 --- prefix={prefix}, b={b}')\n",
    "    \n",
    "    print()\n",
    "\n",
    "    # inp_cnt_<bin_id> is total number in bin\n",
    "    feature[\"{}_cnt_{}\".format(prefix, b)] = _int64_feature([n_tup])\n",
    "    # inp_tup_<bin_id> is the list of (bin_id, num_so_far)\n",
    "    feature[\"{}_tup_{}\".format(prefix, b)] = _int64_feature(tup)"
   ]
  },
  {
   "cell_type": "code",
   "execution_count": 442,
   "metadata": {},
   "outputs": [
    {
     "data": {
      "text/plain": [
       "([array([], dtype=int64), array([3, 5, 7]), array([0, 1, 6, 8, 9])],\n",
       " [array([9]), array([2, 4, 6]), array([0, 5, 7, 8])])"
      ]
     },
     "execution_count": 442,
     "metadata": {},
     "output_type": "execute_result"
    }
   ],
   "source": [
    "inp_pos_per_bin, tgt_pos_per_bin"
   ]
  },
  {
   "cell_type": "code",
   "execution_count": 443,
   "metadata": {
    "scrolled": false
   },
   "outputs": [
    {
     "name": "stdout",
     "output_type": "stream",
     "text": [
      "feature={'inputs': int64_list {\n",
      "  value: 93\n",
      "  value: 94\n",
      "  value: 4\n",
      "  value: 37\n",
      "  value: 0\n",
      "  value: 33\n",
      "  value: 95\n",
      "  value: 38\n",
      "  value: 96\n",
      "  value: 97\n",
      "}\n",
      ", 'labels': int64_list {\n",
      "  value: 94\n",
      "  value: 4\n",
      "  value: 37\n",
      "  value: 0\n",
      "  value: 33\n",
      "  value: 95\n",
      "  value: 38\n",
      "  value: 96\n",
      "  value: 97\n",
      "  value: 12\n",
      "}\n",
      ", 'inp_mask': float_list {\n",
      "  value: 1.0\n",
      "  value: 1.0\n",
      "  value: 1.0\n",
      "  value: 1.0\n",
      "  value: 1.0\n",
      "  value: 1.0\n",
      "  value: 1.0\n",
      "  value: 1.0\n",
      "  value: 1.0\n",
      "  value: 1.0\n",
      "}\n",
      ", 'tgt_mask': float_list {\n",
      "  value: 1.0\n",
      "  value: 1.0\n",
      "  value: 1.0\n",
      "  value: 1.0\n",
      "  value: 1.0\n",
      "  value: 1.0\n",
      "  value: 1.0\n",
      "  value: 1.0\n",
      "  value: 1.0\n",
      "  value: 1.0\n",
      "}\n",
      ", 'head_labels': int64_list {\n",
      "  value: 12\n",
      "  value: 4\n",
      "  value: 11\n",
      "  value: 0\n",
      "  value: 11\n",
      "  value: 12\n",
      "  value: 11\n",
      "  value: 12\n",
      "  value: 12\n",
      "  value: 10\n",
      "}\n",
      ", 'inp_cnt_0': int64_list {\n",
      "  value: 0\n",
      "}\n",
      ", 'inp_tup_0': int64_list {\n",
      "}\n",
      ", 'inp_cnt_1': int64_list {\n",
      "  value: 3\n",
      "}\n",
      ", 'inp_tup_1': int64_list {\n",
      "  value: 3\n",
      "  value: 0\n",
      "  value: 5\n",
      "  value: 1\n",
      "  value: 7\n",
      "  value: 2\n",
      "}\n",
      ", 'inp_cnt_2': int64_list {\n",
      "  value: 5\n",
      "}\n",
      ", 'inp_tup_2': int64_list {\n",
      "  value: 0\n",
      "  value: 0\n",
      "  value: 1\n",
      "  value: 1\n",
      "  value: 6\n",
      "  value: 2\n",
      "  value: 8\n",
      "  value: 3\n",
      "  value: 9\n",
      "  value: 4\n",
      "}\n",
      ", 'tgt_cnt_0': int64_list {\n",
      "  value: 1\n",
      "}\n",
      ", 'tgt_tup_0': int64_list {\n",
      "  value: 9\n",
      "  value: 0\n",
      "}\n",
      ", 'tgt_cnt_1': int64_list {\n",
      "  value: 3\n",
      "}\n",
      ", 'tgt_tup_1': int64_list {\n",
      "  value: 2\n",
      "  value: 0\n",
      "  value: 4\n",
      "  value: 1\n",
      "  value: 6\n",
      "  value: 2\n",
      "}\n",
      ", 'tgt_cnt_2': int64_list {\n",
      "  value: 4\n",
      "}\n",
      ", 'tgt_tup_2': int64_list {\n",
      "  value: 0\n",
      "  value: 0\n",
      "  value: 5\n",
      "  value: 1\n",
      "  value: 7\n",
      "  value: 2\n",
      "  value: 8\n",
      "  value: 3\n",
      "}\n",
      "}, pos_per_bin=[array([], dtype=int64), array([3, 5, 7]), array([0, 1, 6, 8, 9])], cnts=[0, 3, 5], prefix=inp\n",
      "\tfor1 --- b=0, pos=[]\n",
      "\tfor1 --- n_tup=0, tup=[]\n",
      "\tfor1 --- prefix=inp, b=0\n",
      "\n",
      "\tfor1 --- b=1, pos=[3 5 7]\n",
      "\t\tfor2 --- p=3\n",
      "\t\tfor2 --- cnts[b]=3, bin_sizes[b]=8, cnts[b] < bin_sizes[b]=True\n",
      "\t\t\tif --- idx_tuple=[[3, 3]]\n",
      "\n",
      "\t\tfor2 --- p=5\n",
      "\t\tfor2 --- cnts[b]=4, bin_sizes[b]=8, cnts[b] < bin_sizes[b]=True\n",
      "\t\t\tif --- idx_tuple=[[3, 3], [5, 4]]\n",
      "\n",
      "\t\tfor2 --- p=7\n",
      "\t\tfor2 --- cnts[b]=5, bin_sizes[b]=8, cnts[b] < bin_sizes[b]=True\n",
      "\t\t\tif --- idx_tuple=[[3, 3], [5, 4], [7, 5]]\n",
      "\n",
      "\tfor1 --- n_tup=3, tup=[3 3 5 4 7 5]\n",
      "\tfor1 --- prefix=inp, b=1\n",
      "\n",
      "\tfor1 --- b=2, pos=[0 1 6 8 9]\n",
      "\t\tfor2 --- p=0\n",
      "\t\tfor2 --- cnts[b]=5, bin_sizes[b]=8, cnts[b] < bin_sizes[b]=True\n",
      "\t\t\tif --- idx_tuple=[[0, 5]]\n",
      "\n",
      "\t\tfor2 --- p=1\n",
      "\t\tfor2 --- cnts[b]=6, bin_sizes[b]=8, cnts[b] < bin_sizes[b]=True\n",
      "\t\t\tif --- idx_tuple=[[0, 5], [1, 6]]\n",
      "\n",
      "\t\tfor2 --- p=6\n",
      "\t\tfor2 --- cnts[b]=7, bin_sizes[b]=8, cnts[b] < bin_sizes[b]=True\n",
      "\t\t\tif --- idx_tuple=[[0, 5], [1, 6], [6, 7]]\n",
      "\n",
      "\t\tfor2 --- p=8\n",
      "\t\tfor2 --- cnts[b]=8, bin_sizes[b]=8, cnts[b] < bin_sizes[b]=False\n",
      "\t\t\telse --- break\n",
      "\tfor1 --- n_tup=3, tup=[0 5 1 6 6 7]\n",
      "\tfor1 --- prefix=inp, b=2\n",
      "\n",
      "feature={'inputs': int64_list {\n",
      "  value: 93\n",
      "  value: 94\n",
      "  value: 4\n",
      "  value: 37\n",
      "  value: 0\n",
      "  value: 33\n",
      "  value: 95\n",
      "  value: 38\n",
      "  value: 96\n",
      "  value: 97\n",
      "}\n",
      ", 'labels': int64_list {\n",
      "  value: 94\n",
      "  value: 4\n",
      "  value: 37\n",
      "  value: 0\n",
      "  value: 33\n",
      "  value: 95\n",
      "  value: 38\n",
      "  value: 96\n",
      "  value: 97\n",
      "  value: 12\n",
      "}\n",
      ", 'inp_mask': float_list {\n",
      "  value: 1.0\n",
      "  value: 1.0\n",
      "  value: 1.0\n",
      "  value: 1.0\n",
      "  value: 1.0\n",
      "  value: 1.0\n",
      "  value: 1.0\n",
      "  value: 1.0\n",
      "  value: 1.0\n",
      "  value: 1.0\n",
      "}\n",
      ", 'tgt_mask': float_list {\n",
      "  value: 1.0\n",
      "  value: 1.0\n",
      "  value: 1.0\n",
      "  value: 1.0\n",
      "  value: 1.0\n",
      "  value: 1.0\n",
      "  value: 1.0\n",
      "  value: 1.0\n",
      "  value: 1.0\n",
      "  value: 1.0\n",
      "}\n",
      ", 'head_labels': int64_list {\n",
      "  value: 12\n",
      "  value: 4\n",
      "  value: 11\n",
      "  value: 0\n",
      "  value: 11\n",
      "  value: 12\n",
      "  value: 11\n",
      "  value: 12\n",
      "  value: 12\n",
      "  value: 10\n",
      "}\n",
      ", 'inp_cnt_0': int64_list {\n",
      "  value: 0\n",
      "}\n",
      ", 'inp_tup_0': int64_list {\n",
      "}\n",
      ", 'inp_cnt_1': int64_list {\n",
      "  value: 3\n",
      "}\n",
      ", 'inp_tup_1': int64_list {\n",
      "  value: 3\n",
      "  value: 3\n",
      "  value: 5\n",
      "  value: 4\n",
      "  value: 7\n",
      "  value: 5\n",
      "}\n",
      ", 'inp_cnt_2': int64_list {\n",
      "  value: 3\n",
      "}\n",
      ", 'inp_tup_2': int64_list {\n",
      "  value: 0\n",
      "  value: 5\n",
      "  value: 1\n",
      "  value: 6\n",
      "  value: 6\n",
      "  value: 7\n",
      "}\n",
      ", 'tgt_cnt_0': int64_list {\n",
      "  value: 1\n",
      "}\n",
      ", 'tgt_tup_0': int64_list {\n",
      "  value: 9\n",
      "  value: 0\n",
      "}\n",
      ", 'tgt_cnt_1': int64_list {\n",
      "  value: 3\n",
      "}\n",
      ", 'tgt_tup_1': int64_list {\n",
      "  value: 2\n",
      "  value: 0\n",
      "  value: 4\n",
      "  value: 1\n",
      "  value: 6\n",
      "  value: 2\n",
      "}\n",
      ", 'tgt_cnt_2': int64_list {\n",
      "  value: 4\n",
      "}\n",
      ", 'tgt_tup_2': int64_list {\n",
      "  value: 0\n",
      "  value: 0\n",
      "  value: 5\n",
      "  value: 1\n",
      "  value: 7\n",
      "  value: 2\n",
      "  value: 8\n",
      "  value: 3\n",
      "}\n",
      "}, pos_per_bin=[array([9]), array([2, 4, 6]), array([0, 5, 7, 8])], cnts=[1, 3, 4], prefix=tgt\n",
      "\tfor1 --- b=0, pos=[9]\n",
      "\t\tfor2 --- p=9\n",
      "\t\tfor2 --- cnts[b]=1, bin_sizes[b]=8, cnts[b] < bin_sizes[b]=True\n",
      "\t\t\tif --- idx_tuple=[[9, 1]]\n",
      "\n",
      "\tfor1 --- n_tup=1, tup=[9 1]\n",
      "\tfor1 --- prefix=tgt, b=0\n",
      "\n",
      "\tfor1 --- b=1, pos=[2 4 6]\n",
      "\t\tfor2 --- p=2\n",
      "\t\tfor2 --- cnts[b]=3, bin_sizes[b]=8, cnts[b] < bin_sizes[b]=True\n",
      "\t\t\tif --- idx_tuple=[[2, 3]]\n",
      "\n",
      "\t\tfor2 --- p=4\n",
      "\t\tfor2 --- cnts[b]=4, bin_sizes[b]=8, cnts[b] < bin_sizes[b]=True\n",
      "\t\t\tif --- idx_tuple=[[2, 3], [4, 4]]\n",
      "\n",
      "\t\tfor2 --- p=6\n",
      "\t\tfor2 --- cnts[b]=5, bin_sizes[b]=8, cnts[b] < bin_sizes[b]=True\n",
      "\t\t\tif --- idx_tuple=[[2, 3], [4, 4], [6, 5]]\n",
      "\n",
      "\tfor1 --- n_tup=3, tup=[2 3 4 4 6 5]\n",
      "\tfor1 --- prefix=tgt, b=1\n",
      "\n",
      "\tfor1 --- b=2, pos=[0 5 7 8]\n",
      "\t\tfor2 --- p=0\n",
      "\t\tfor2 --- cnts[b]=4, bin_sizes[b]=8, cnts[b] < bin_sizes[b]=True\n",
      "\t\t\tif --- idx_tuple=[[0, 4]]\n",
      "\n",
      "\t\tfor2 --- p=5\n",
      "\t\tfor2 --- cnts[b]=5, bin_sizes[b]=8, cnts[b] < bin_sizes[b]=True\n",
      "\t\t\tif --- idx_tuple=[[0, 4], [5, 5]]\n",
      "\n",
      "\t\tfor2 --- p=7\n",
      "\t\tfor2 --- cnts[b]=6, bin_sizes[b]=8, cnts[b] < bin_sizes[b]=True\n",
      "\t\t\tif --- idx_tuple=[[0, 4], [5, 5], [7, 6]]\n",
      "\n",
      "\t\tfor2 --- p=8\n",
      "\t\tfor2 --- cnts[b]=7, bin_sizes[b]=8, cnts[b] < bin_sizes[b]=True\n",
      "\t\t\tif --- idx_tuple=[[0, 4], [5, 5], [7, 6], [8, 7]]\n",
      "\n",
      "\tfor1 --- n_tup=4, tup=[0 4 5 5 7 6 8 7]\n",
      "\tfor1 --- prefix=tgt, b=2\n",
      "\n"
     ]
    }
   ],
   "source": [
    "_add_perm_feature(feature, inp_pos_per_bin, inp_cnts, \"inp\")\n",
    "_add_perm_feature(feature, tgt_pos_per_bin, tgt_cnts, \"tgt\")"
   ]
  },
  {
   "cell_type": "code",
   "execution_count": 434,
   "metadata": {},
   "outputs": [
    {
     "data": {
      "text/plain": [
       "{'inputs': int64_list {\n",
       "   value: 93\n",
       "   value: 94\n",
       "   value: 4\n",
       "   value: 37\n",
       "   value: 0\n",
       "   value: 33\n",
       "   value: 95\n",
       "   value: 38\n",
       "   value: 96\n",
       "   value: 97\n",
       " },\n",
       " 'labels': int64_list {\n",
       "   value: 94\n",
       "   value: 4\n",
       "   value: 37\n",
       "   value: 0\n",
       "   value: 33\n",
       "   value: 95\n",
       "   value: 38\n",
       "   value: 96\n",
       "   value: 97\n",
       "   value: 12\n",
       " },\n",
       " 'inp_mask': float_list {\n",
       "   value: 1.0\n",
       "   value: 1.0\n",
       "   value: 1.0\n",
       "   value: 1.0\n",
       "   value: 1.0\n",
       "   value: 1.0\n",
       "   value: 1.0\n",
       "   value: 1.0\n",
       "   value: 1.0\n",
       "   value: 1.0\n",
       " },\n",
       " 'tgt_mask': float_list {\n",
       "   value: 1.0\n",
       "   value: 1.0\n",
       "   value: 1.0\n",
       "   value: 1.0\n",
       "   value: 1.0\n",
       "   value: 1.0\n",
       "   value: 1.0\n",
       "   value: 1.0\n",
       "   value: 1.0\n",
       "   value: 1.0\n",
       " },\n",
       " 'head_labels': int64_list {\n",
       "   value: 12\n",
       "   value: 4\n",
       "   value: 11\n",
       "   value: 0\n",
       "   value: 11\n",
       "   value: 12\n",
       "   value: 11\n",
       "   value: 12\n",
       "   value: 12\n",
       "   value: 10\n",
       " },\n",
       " 'inp_cnt_0': int64_list {\n",
       "   value: 0\n",
       " },\n",
       " 'inp_tup_0': int64_list {\n",
       " },\n",
       " 'inp_cnt_1': int64_list {\n",
       "   value: 3\n",
       " },\n",
       " 'inp_tup_1': int64_list {\n",
       "   value: 3\n",
       "   value: 0\n",
       "   value: 5\n",
       "   value: 1\n",
       "   value: 7\n",
       "   value: 2\n",
       " },\n",
       " 'inp_cnt_2': int64_list {\n",
       "   value: 5\n",
       " },\n",
       " 'inp_tup_2': int64_list {\n",
       "   value: 0\n",
       "   value: 0\n",
       "   value: 1\n",
       "   value: 1\n",
       "   value: 6\n",
       "   value: 2\n",
       "   value: 8\n",
       "   value: 3\n",
       "   value: 9\n",
       "   value: 4\n",
       " },\n",
       " 'tgt_cnt_0': int64_list {\n",
       "   value: 1\n",
       " },\n",
       " 'tgt_tup_0': int64_list {\n",
       "   value: 9\n",
       "   value: 0\n",
       " },\n",
       " 'tgt_cnt_1': int64_list {\n",
       "   value: 3\n",
       " },\n",
       " 'tgt_tup_1': int64_list {\n",
       "   value: 2\n",
       "   value: 0\n",
       "   value: 4\n",
       "   value: 1\n",
       "   value: 6\n",
       "   value: 2\n",
       " },\n",
       " 'tgt_cnt_2': int64_list {\n",
       "   value: 4\n",
       " },\n",
       " 'tgt_tup_2': int64_list {\n",
       "   value: 0\n",
       "   value: 0\n",
       "   value: 5\n",
       "   value: 1\n",
       "   value: 7\n",
       "   value: 2\n",
       "   value: 8\n",
       "   value: 3\n",
       " }}"
      ]
     },
     "execution_count": 434,
     "metadata": {},
     "output_type": "execute_result"
    }
   ],
   "source": [
    "feature"
   ]
  },
  {
   "cell_type": "code",
   "execution_count": 433,
   "metadata": {},
   "outputs": [
    {
     "ename": "IndentationError",
     "evalue": "expected an indented block (<ipython-input-433-e2a5c87b608f>, line 5)",
     "output_type": "error",
     "traceback": [
      "\u001b[0;36m  File \u001b[0;32m\"<ipython-input-433-e2a5c87b608f>\"\u001b[0;36m, line \u001b[0;32m5\u001b[0m\n\u001b[0;31m    if batch_size <= 0: continue\u001b[0m\n\u001b[0m    ^\u001b[0m\n\u001b[0;31mIndentationError\u001b[0m\u001b[0;31m:\u001b[0m expected an indented block\n"
     ]
    }
   ],
   "source": [
    "for split, batch_size in zip(\n",
    "  [\"train\", \"valid\"],\n",
    "  [FLAGS.per_host_train_bsz, FLAGS.per_host_valid_bsz]):\n",
    "\n",
    "if batch_size <= 0: continue\n",
    "print(\"Converting {} set...\".format(split))\n",
    "corpus.convert_to_tfrecords(split, save_dir, batch_size, FLAGS.tgt_len,\n",
    "                            FLAGS.num_core_per_host, FLAGS=FLAGS)"
   ]
  },
  {
   "cell_type": "code",
   "execution_count": null,
   "metadata": {},
   "outputs": [],
   "source": []
  },
  {
   "cell_type": "code",
   "execution_count": null,
   "metadata": {},
   "outputs": [],
   "source": [
    "# def main(unused_argv):\n",
    "#   del unused_argv  # Unused\n",
    "\n",
    "#   corpus = get_lm_corpus(FLAGS.data_dir, FLAGS.dataset)\n",
    "\n",
    "#   save_dir = os.path.join(FLAGS.data_dir, \"tfrecords\")\n",
    "#   if not exists(save_dir):\n",
    "#     makedirs(save_dir)\n",
    "\n",
    "#   # test mode\n",
    "#   if FLAGS.per_host_test_bsz > 0:\n",
    "#     corpus.convert_to_tfrecords(\"test\", save_dir, FLAGS.per_host_test_bsz,\n",
    "#                                 FLAGS.tgt_len, FLAGS.num_core_per_host, \n",
    "#                                 FLAGS=FLAGS)\n",
    "#     return\n",
    "\n"
   ]
  }
 ],
 "metadata": {
  "kernelspec": {
   "display_name": "py3venv",
   "language": "python",
   "name": "py3venv"
  },
  "language_info": {
   "codemirror_mode": {
    "name": "ipython",
    "version": 3
   },
   "file_extension": ".py",
   "mimetype": "text/x-python",
   "name": "python",
   "nbconvert_exporter": "python",
   "pygments_lexer": "ipython3",
   "version": "3.8.0"
  }
 },
 "nbformat": 4,
 "nbformat_minor": 4
}
